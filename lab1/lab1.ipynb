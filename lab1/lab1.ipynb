{
 "cells": [
  {
   "cell_type": "markdown",
   "id": "3a2f7f8f",
   "metadata": {},
   "source": [
    "# Laboratorium 1\n",
    "# Arytmetyka komputerowa"
   ]
  },
  {
   "cell_type": "code",
   "execution_count": 29,
   "id": "ac6d8acf",
   "metadata": {},
   "outputs": [],
   "source": [
    "import numpy as np\n",
    "from matplotlib import pyplot as plt\n",
    "import time"
   ]
  },
  {
   "cell_type": "markdown",
   "id": "45753c2b",
   "metadata": {},
   "source": [
    "___"
   ]
  },
  {
   "cell_type": "markdown",
   "id": "758b2177",
   "metadata": {},
   "source": [
    "## Zadanie 1 Sumowanie liczb pojedynczej precyzji"
   ]
  },
  {
   "cell_type": "markdown",
   "id": "b355145d",
   "metadata": {},
   "source": [
    "### 1.  Napisz program, który oblicza sumę N liczb pojedynczej precyzji przechowywanych w tablicy o \n",
    "### N = 10^7 elementach. Tablica wypełniona jest tą samą wartością v z przedziału [0.1,0.9] np. v = 0.53125."
   ]
  },
  {
   "cell_type": "code",
   "execution_count": 11,
   "id": "0206bd12",
   "metadata": {},
   "outputs": [
    {
     "data": {
      "text/plain": [
       "5030840.5"
      ]
     },
     "execution_count": 11,
     "metadata": {},
     "output_type": "execute_result"
    }
   ],
   "source": [
    "def sum_of_numbers(numbers):\n",
    "    sum_ = np.float32(0)\n",
    "    for number in numbers:\n",
    "        sum_ += number\n",
    "    return sum_\n",
    "    \n",
    "N = 10_000_000\n",
    "v = np.float32(0.53125)\n",
    "table_of_numbers = np.full(shape=N, fill_value=v)\n",
    "calculated_value = sum_of_numbers(table_of_numbers)"
   ]
  },
  {
   "cell_type": "markdown",
   "id": "f66514a1",
   "metadata": {},
   "source": [
    "___"
   ]
  },
  {
   "cell_type": "markdown",
   "id": "d30de49b",
   "metadata": {},
   "source": [
    "### 2.  Wyznacz bezwzględny i względny błąd obliczeń. Dlaczego błąd względny jest tak duży?"
   ]
  },
  {
   "cell_type": "code",
   "execution_count": 12,
   "id": "0734c24c",
   "metadata": {},
   "outputs": [
    {
     "name": "stdout",
     "output_type": "stream",
     "text": [
      "281659.5\n",
      "5.3 %\n"
     ]
    }
   ],
   "source": [
    "expected_value = 0.53125 * 10_000_000\n",
    "absolute_error = abs(expected_value - calculated_value)\n",
    "relative_error = absolute_error / expected_value\n",
    "\n",
    "print(absolute_error)\n",
    "print(100 * round(relative_error, 4),\"%\")"
   ]
  },
  {
   "cell_type": "markdown",
   "id": "6fe43674",
   "metadata": {},
   "source": [
    "#### Tak duży błąd względny jest spowodowany tym, że w komputerze nie da się dokładnie zapisać liczb zmiennoprzecinkowych co prowadzi do tego, że błąd ten powiększa się przy każdej operacji dodawania. Dodatkowo kiedy dodajemy liczby o różnych rzędzach wielkości błąd względny się powiększa z powodu przesuwania przecinka aby dodać liczby."
   ]
  },
  {
   "cell_type": "markdown",
   "id": "fb9136ea",
   "metadata": {},
   "source": [
    "---"
   ]
  },
  {
   "cell_type": "markdown",
   "id": "9281f507",
   "metadata": {},
   "source": [
    "### 3.  W jaki sposób rośnie błąd względny w trakcie sumowania? Przedstaw wykres (raportuj wartość błędu co 25000 kroków) i dokonaj jego interpretacji."
   ]
  },
  {
   "cell_type": "code",
   "execution_count": 13,
   "id": "55e69671",
   "metadata": {},
   "outputs": [
    {
     "data": {
      "text/plain": [
       "[<matplotlib.lines.Line2D at 0x20db276d460>]"
      ]
     },
     "execution_count": 13,
     "metadata": {},
     "output_type": "execute_result"
    },
    {
     "data": {
      "image/png": "[encoded data removed]",
      "text/plain": [
       "<Figure size 432x288 with 1 Axes>"
      ]
     },
     "metadata": {
      "needs_background": "light"
     },
     "output_type": "display_data"
    }
   ],
   "source": [
    "def relative_error_transition(v=np.float32(0.53125), N=10_000_000):\n",
    "    \n",
    "    sum_ = np.float32(0)\n",
    "    real_value = 0\n",
    "    relative_errors = []\n",
    "    \n",
    "    for i in range(N):\n",
    "        sum_ += v\n",
    "        real_value += v\n",
    "        if i % 25000 == 0:\n",
    "            relative_error = abs(real_value - sum_) / real_value\n",
    "            relative_errors.append(relative_error)\n",
    "    \n",
    "    return relative_errors\n",
    "    \n",
    "plt.plot(relative_error_transition())"
   ]
  },
  {
   "cell_type": "markdown",
   "id": "904e7dd1",
   "metadata": {},
   "source": [
    "#### Na początku błąd względny jest tak mały, że jest obliczany jako 0, następnie przy około 40. pomiarze błąd zaczyna rosnąć, wyglądem funkcja błędu przypomina logarytm naturalny. Funkcja jest monotonicznie rosnąca, jednak zwalnia szybkość przrostu w okolicach błędu wielkości 0.04."
   ]
  },
  {
   "cell_type": "markdown",
   "id": "7e458eac",
   "metadata": {},
   "source": [
    "### 4.  Zaimplementuj rekurencyjny algorytm sumowania."
   ]
  },
  {
   "cell_type": "code",
   "execution_count": 30,
   "id": "760ba98b",
   "metadata": {},
   "outputs": [],
   "source": [
    "# N = 10_000_000\n",
    "# v = np.float32(0.53125)\n",
    "# table_of_numbers = np.full(shape=N, fill_value=v)\n",
    "\n",
    "def recursive_sum_of_numbers(numbers):\n",
    "    if len(numbers) == 2:\n",
    "        return numbers[0] + numbers[1]\n",
    "    if len(numbers) == 1:\n",
    "        return numbers[0]\n",
    "    return recursive_sum_of_numbers(numbers[:len(numbers) // 2]) + recursive_sum_of_numbers(numbers[-len(numbers) // 2:])\n",
    "    \n",
    "calculated_value = recursive_sum_of_numbers(table_of_numbers)"
   ]
  },
  {
   "cell_type": "markdown",
   "id": "b0a5e48b",
   "metadata": {},
   "source": [
    "### 5.  Wyznacz bezwzględny i względny błąd obliczeń. Dlaczego błąd względny znacznie zmalał?"
   ]
  },
  {
   "cell_type": "code",
   "execution_count": 28,
   "id": "7d06d720",
   "metadata": {},
   "outputs": [
    {
     "name": "stdout",
     "output_type": "stream",
     "text": [
      "0.0\n",
      "0.0 %\n"
     ]
    }
   ],
   "source": [
    "expected_value = 0.53125 * 10_000_000\n",
    "absolute_error = abs(expected_value - calculated_value)\n",
    "relative_error = absolute_error / expected_value\n",
    "\n",
    "print(absolute_error)\n",
    "print(100 * round(relative_error, 4),\"%\")"
   ]
  },
  {
   "cell_type": "markdown",
   "id": "130c06c3",
   "metadata": {},
   "source": [
    "#### Błąd względny znacznie zmalał, ponieważ dodawane w tym przypadku liczby miał ten sam albo bardzo zbliżony rząd wielkości"
   ]
  },
  {
   "cell_type": "markdown",
   "id": "5852fe5a",
   "metadata": {},
   "source": [
    "### 6.  Porównaj czas działania obu algorytmów dla tych samych danych wejściowych."
   ]
  },
  {
   "cell_type": "code",
   "execution_count": 31,
   "id": "50b33aad",
   "metadata": {},
   "outputs": [
    {
     "name": "stdout",
     "output_type": "stream",
     "text": [
      "1.0275843143463135\n"
     ]
    }
   ],
   "source": [
    "start = time.time()\n",
    "sum_of_numbers(table_of_numbers)\n",
    "end = time.time()\n",
    "print(end - start)"
   ]
  },
  {
   "cell_type": "code",
   "execution_count": 32,
   "id": "7a7ee207",
   "metadata": {},
   "outputs": [
    {
     "name": "stdout",
     "output_type": "stream",
     "text": [
      "5.233598470687866\n"
     ]
    }
   ],
   "source": [
    "start = time.time()\n",
    "recursive_sum_of_numbers(table_of_numbers)\n",
    "end = time.time()\n",
    "print(end - start)"
   ]
  },
  {
   "cell_type": "markdown",
   "id": "50547933",
   "metadata": {},
   "source": [
    "### 7.  Przedstaw przykładowe dane wejściowe, dla których algorytm sumowania rekurencyjnego zwraca niezerowy błąd."
   ]
  },
  {
   "cell_type": "code",
   "execution_count": 54,
   "id": "662e350e",
   "metadata": {},
   "outputs": [
    {
     "name": "stdout",
     "output_type": "stream",
     "text": [
      "0.10962386429309845\n"
     ]
    }
   ],
   "source": [
    "T = [np.float32(0.001), np.float32(0.1)] * 10_000_000\n",
    "\n",
    "expected_value = sum(T)\n",
    "absolute_error = abs(expected_value - recursive_sum_of_numbers(T))\n",
    "relative_error = absolute_error / expected_value\n",
    "\n",
    "print(absolute_error)"
   ]
  },
  {
   "cell_type": "markdown",
   "id": "ce18c0f0",
   "metadata": {},
   "source": [
    "## Zadanie 2 Algorytm Kahana"
   ]
  },
  {
   "cell_type": "code",
   "execution_count": 57,
   "id": "e4f11b84",
   "metadata": {},
   "outputs": [],
   "source": [
    "def Kahan_algorithm(numbers):\n",
    "    _sum = np.float32(0)\n",
    "    error = np.float32(0)\n",
    "    \n",
    "    for i in range(len(numbers)):\n",
    "        y = numbers[i] - error\n",
    "        temp = _sum + y\n",
    "        error = (temp - _sum) - y\n",
    "        _sum = temp\n",
    "    return _sum"
   ]
  },
  {
   "cell_type": "markdown",
   "id": "5057db8f",
   "metadata": {},
   "source": [
    "### 1.  Wyznacz bezwzględny i względny błąd obliczeń dla tych samych danych wejściowych jak w przypadku testów z Zadania 1."
   ]
  },
  {
   "cell_type": "code",
   "execution_count": 58,
   "id": "83f9a429",
   "metadata": {},
   "outputs": [
    {
     "name": "stdout",
     "output_type": "stream",
     "text": [
      "0.0\n",
      "0.0 %\n"
     ]
    }
   ],
   "source": [
    "expected_value = 0.53125 * 10_000_000\n",
    "absolute_error = abs(expected_value - Kahan_algorithm(table_of_numbers))\n",
    "relative_error = absolute_error / expected_value\n",
    "\n",
    "print(absolute_error)\n",
    "print(100 * round(relative_error, 4),\"%\")"
   ]
  },
  {
   "cell_type": "markdown",
   "id": "ceaacc05",
   "metadata": {},
   "source": [
    "### 2.  Wyjaśnij dlaczego algorytm Kahana ma znacznie lepsze własności numeryczne? Do czego służy zmienna error?"
   ]
  },
  {
   "cell_type": "markdown",
   "id": "52a70fcb",
   "metadata": {},
   "source": [
    "#### po"
   ]
  },
  {
   "cell_type": "markdown",
   "id": "a545485a",
   "metadata": {},
   "source": [
    "### 3.  Porównaj czasy działania algorytmu Kahana oraz algorytmu sumowania rekurencyjnego dla tych samych danych wejściowych."
   ]
  },
  {
   "cell_type": "code",
   "execution_count": 59,
   "id": "a9523226",
   "metadata": {},
   "outputs": [
    {
     "name": "stdout",
     "output_type": "stream",
     "text": [
      "8.550249814987183\n"
     ]
    }
   ],
   "source": [
    "start = time.time()\n",
    "recursive_sum_of_numbers(T)\n",
    "end = time.time()\n",
    "print(end - start)"
   ]
  },
  {
   "cell_type": "code",
   "execution_count": 60,
   "id": "4bf84e29",
   "metadata": {},
   "outputs": [
    {
     "name": "stdout",
     "output_type": "stream",
     "text": [
      "4.895787239074707\n"
     ]
    }
   ],
   "source": [
    "start = time.time()\n",
    "Kahan_algorithm(T)\n",
    "end = time.time()\n",
    "print(end - start)"
   ]
  },
  {
   "cell_type": "markdown",
   "id": "7e0ed885",
   "metadata": {},
   "source": [
    "## Zadanie 3 Sumy częściowe"
   ]
  },
  {
   "cell_type": "markdown",
   "id": "79503935",
   "metadata": {},
   "source": [
    "### Rozważ sumy częściowe szeregu definiującego funkcję dzeta Riemanna oraz funkcję eta Dirichleta"
   ]
  },
  {
   "cell_type": "markdown",
   "id": "3ce1ff35",
   "metadata": {},
   "source": [
    "#### DZETA"
   ]
  },
  {
   "cell_type": "code",
   "execution_count": 70,
   "id": "d96f2638",
   "metadata": {},
   "outputs": [],
   "source": [
    "ss = [2, 3.6667, 5, 7.2, 10]\n",
    "ns = [50, 100, 200, 500, 1000]"
   ]
  },
  {
   "cell_type": "code",
   "execution_count": 83,
   "id": "4f277de0",
   "metadata": {},
   "outputs": [],
   "source": [
    "def dzeta_function_forward_float32(s, n):\n",
    "    s = np.float32(s)\n",
    "    sum_ = np.float32(0)\n",
    "    for i in range(1, n + 1):\n",
    "        sum_ += np.float32(1 / (i ** s))\n",
    "    return sum_\n",
    "\n",
    "def dzeta_function_backward_float32(s, n):\n",
    "    s = np.float32(s)\n",
    "    sum_ = np.float32(0)\n",
    "    for i in range(n, 0, -1):\n",
    "        sum_ += np.float32(1 / (i ** s))\n",
    "    return sum_\n",
    "\n",
    "def dzeta_function_forward_float64(s, n):\n",
    "    s = np.float64(s)\n",
    "    sum_ = np.float64(0)\n",
    "    for i in range(1, n + 1):\n",
    "        sum_ += np.float64(1 / (i ** s))\n",
    "    return sum_\n",
    "\n",
    "def dzeta_function_backward_float64(s, n):\n",
    "    s = np.float64(s)\n",
    "    sum_ = np.float64(0)\n",
    "    for i in range(n, 0, -1):\n",
    "        sum_ += np.float64(1 / (i ** s))\n",
    "    return sum_"
   ]
  },
  {
   "cell_type": "code",
   "execution_count": 84,
   "id": "df052711",
   "metadata": {},
   "outputs": [
    {
     "name": "stdout",
     "output_type": "stream",
     "text": [
      "\n",
      "s = 2 , n = 50\n",
      "\n",
      "\tForward\n",
      "\tfloat: 1.6251329 \n",
      "\tdouble: 1.625132733621529 \n",
      "\tdifference: 1.8473632001914098e-07\n",
      "\n",
      "\tBackward\n",
      "\tfloat: 1.6251327 \n",
      "\tdouble: 1.6251327336215293 \n",
      "\tdifference: 5.368225930446613e-08\n",
      "\n",
      "s = 2 , n = 100\n",
      "\n",
      "\tForward\n",
      "\tfloat: 1.634984 \n",
      "\tdouble: 1.6349839001848923 \n",
      "\tdifference: 1.1623356477308278e-07\n",
      "\n",
      "\tBackward\n",
      "\tfloat: 1.6349839 \n",
      "\tdouble: 1.634983900184893 \n",
      "\tdifference: 2.975725443832289e-09\n",
      "\n",
      "s = 2 , n = 200\n",
      "\n",
      "\tForward\n",
      "\tfloat: 1.6399467 \n",
      "\tdouble: 1.6399465460149971 \n",
      "\tdifference: 1.5312745893503177e-07\n",
      "\n",
      "\tBackward\n",
      "\tfloat: 1.6399465 \n",
      "\tdouble: 1.6399465460149973 \n",
      "\tdifference: 8.529112038857534e-08\n",
      "\n",
      "s = 2 , n = 500\n",
      "\n",
      "\tForward\n",
      "\tfloat: 1.642936 \n",
      "\tdouble: 1.642936065514894 \n",
      "\tdifference: 7.422766246101276e-08\n",
      "\n",
      "\tBackward\n",
      "\tfloat: 1.642936 \n",
      "\tdouble: 1.6429360655148941 \n",
      "\tdifference: 7.422766268305736e-08\n",
      "\n",
      "s = 2 , n = 1000\n",
      "\n",
      "\tForward\n",
      "\tfloat: 1.6439348 \n",
      "\tdouble: 1.6439345666815615 \n",
      "\tdifference: 2.7924281598146194e-07\n",
      "\n",
      "\tBackward\n",
      "\tfloat: 1.6439345 \n",
      "\tdouble: 1.6439345666815597 \n",
      "\tdifference: 7.838505089452497e-08\n",
      "\n",
      "s = 3.6667 , n = 50\n",
      "\n",
      "\tForward\n",
      "\tfloat: 1.1093994 \n",
      "\tdouble: 1.1093997551541945 \n",
      "\tdifference: 3.172498366232901e-07\n",
      "\n",
      "\tBackward\n",
      "\tfloat: 1.1093998 \n",
      "\tdouble: 1.1093997551541943 \n",
      "\tdifference: 4.037803225109826e-08\n",
      "\n",
      "s = 3.6667 , n = 100\n",
      "\n",
      "\tForward\n",
      "\tfloat: 1.1094086 \n",
      "\tdouble: 1.1094087973421474 \n",
      "\tdifference: 1.8032249404775769e-07\n",
      "\n",
      "\tBackward\n",
      "\tfloat: 1.1094089 \n",
      "\tdouble: 1.1094087973421476 \n",
      "\tdifference: 5.809608483176021e-08\n",
      "\n",
      "s = 3.6667 , n = 200\n",
      "\n",
      "\tForward\n",
      "\tfloat: 1.1094086 \n",
      "\tdouble: 1.1094102423332313 \n",
      "\tdifference: 1.6253135779464856e-06\n",
      "\n",
      "\tBackward\n",
      "\tfloat: 1.1094103 \n",
      "\tdouble: 1.109410242333231 \n",
      "\tdifference: 4.361647598649654e-08\n",
      "\n",
      "s = 3.6667 , n = 500\n",
      "\n",
      "\tForward\n",
      "\tfloat: 1.1094086 \n",
      "\tdouble: 1.1094104908440712 \n",
      "\tdifference: 1.8738244178528873e-06\n",
      "\n",
      "\tBackward\n",
      "\tfloat: 1.1094105 \n",
      "\tdouble: 1.1094104908440725 \n",
      "\tdifference: 3.3524213627345034e-08\n",
      "\n",
      "s = 3.6667 , n = 1000\n",
      "\n",
      "\tForward\n",
      "\tfloat: 1.1094086 \n",
      "\tdouble: 1.1094105108423578 \n",
      "\tdifference: 1.8938227044351663e-06\n",
      "\n",
      "\tBackward\n",
      "\tfloat: 1.1094105 \n",
      "\tdouble: 1.1094105108423593 \n",
      "\tdifference: 1.352592682302145e-08\n",
      "\n",
      "s = 5 , n = 50\n",
      "\n",
      "\tForward\n",
      "\tfloat: 1.0369275 \n",
      "\tdouble: 1.036927716716712 \n",
      "\tdifference: 2.550925664035475e-07\n",
      "\n",
      "\tBackward\n",
      "\tfloat: 1.0369277 \n",
      "\tdouble: 1.0369277167167108 \n",
      "\tdifference: 1.667398619176197e-08\n",
      "\n",
      "s = 5 , n = 100\n",
      "\n",
      "\tForward\n",
      "\tfloat: 1.0369275 \n",
      "\tdouble: 1.0369277526929555 \n",
      "\tdifference: 2.9106880994334006e-07\n",
      "\n",
      "\tBackward\n",
      "\tfloat: 1.0369277 \n",
      "\tdouble: 1.0369277526929532 \n",
      "\tdifference: 5.265022862133151e-08\n",
      "\n",
      "s = 5 , n = 200\n",
      "\n",
      "\tForward\n",
      "\tfloat: 1.0369275 \n",
      "\tdouble: 1.0369277549886775 \n",
      "\tdifference: 2.933645320002398e-07\n",
      "\n",
      "\tBackward\n",
      "\tfloat: 1.0369277 \n",
      "\tdouble: 1.036927754988676 \n",
      "\tdifference: 5.4945951344365085e-08\n",
      "\n",
      "s = 5 , n = 500\n",
      "\n",
      "\tForward\n",
      "\tfloat: 1.0369275 \n",
      "\tdouble: 1.0369277551393863 \n",
      "\tdifference: 2.935152407790298e-07\n",
      "\n",
      "\tBackward\n",
      "\tfloat: 1.0369277 \n",
      "\tdouble: 1.0369277551393858 \n",
      "\tdifference: 5.5096661233378086e-08\n",
      "\n",
      "s = 5 , n = 1000\n",
      "\n",
      "\tForward\n",
      "\tfloat: 1.0369275 \n",
      "\tdouble: 1.0369277551431222 \n",
      "\tdifference: 2.9351897667950766e-07\n",
      "\n",
      "\tBackward\n",
      "\tfloat: 1.0369277 \n",
      "\tdouble: 1.0369277551431204 \n",
      "\tdifference: 5.510039580158832e-08\n",
      "\n",
      "s = 7.2 , n = 50\n",
      "\n",
      "\tForward\n",
      "\tfloat: 1.0072277 \n",
      "\tdouble: 1.0072276664762816 \n",
      "\tdifference: 7.250817724013814e-09\n",
      "\n",
      "\tBackward\n",
      "\tfloat: 1.0072277 \n",
      "\tdouble: 1.0072276664762823 \n",
      "\tdifference: 7.250818390147629e-09\n",
      "\n",
      "s = 7.2 , n = 100\n",
      "\n",
      "\tForward\n",
      "\tfloat: 1.0072277 \n",
      "\tdouble: 1.007227666480654 \n",
      "\tdifference: 7.2551902263739976e-09\n",
      "\n",
      "\tBackward\n",
      "\tfloat: 1.0072277 \n",
      "\tdouble: 1.007227666480655 \n",
      "\tdifference: 7.255191114552417e-09\n",
      "\n",
      "s = 7.2 , n = 200\n",
      "\n",
      "\tForward\n",
      "\tfloat: 1.0072277 \n",
      "\tdouble: 1.0072276664807145 \n",
      "\tdifference: 7.255250622506537e-09\n",
      "\n",
      "\tBackward\n",
      "\tfloat: 1.0072277 \n",
      "\tdouble: 1.0072276664807163 \n",
      "\tdifference: 7.2552523988633766e-09\n",
      "\n",
      "s = 7.2 , n = 500\n",
      "\n",
      "\tForward\n",
      "\tfloat: 1.0072277 \n",
      "\tdouble: 1.0072276664807145 \n",
      "\tdifference: 7.255250622506537e-09\n",
      "\n",
      "\tBackward\n",
      "\tfloat: 1.0072277 \n",
      "\tdouble: 1.0072276664807172 \n",
      "\tdifference: 7.255253287041796e-09\n",
      "\n",
      "s = 7.2 , n = 1000\n",
      "\n",
      "\tForward\n",
      "\tfloat: 1.0072277 \n",
      "\tdouble: 1.0072276664807145 \n",
      "\tdifference: 7.255250622506537e-09\n",
      "\n",
      "\tBackward\n",
      "\tfloat: 1.0072277 \n",
      "\tdouble: 1.0072276664807172 \n",
      "\tdifference: 7.255253287041796e-09\n",
      "\n",
      "s = 10 , n = 50\n",
      "\n",
      "\tForward\n",
      "\tfloat: 1.0009946 \n",
      "\tdouble: 1.0009945751278182 \n",
      "\tdifference: 1.202509603004387e-08\n",
      "\n",
      "\tBackward\n",
      "\tfloat: 1.0009946 \n",
      "\tdouble: 1.000994575127818 \n",
      "\tdifference: 1.2025095807999264e-08\n",
      "\n",
      "s = 10 , n = 100\n",
      "\n",
      "\tForward\n",
      "\tfloat: 1.0009946 \n",
      "\tdouble: 1.0009945751278182 \n",
      "\tdifference: 1.202509603004387e-08\n",
      "\n",
      "\tBackward\n",
      "\tfloat: 1.0009946 \n",
      "\tdouble: 1.000994575127818 \n",
      "\tdifference: 1.2025095807999264e-08\n",
      "\n",
      "s = 10 , n = 200\n",
      "\n",
      "\tForward\n",
      "\tfloat: 1.0009946 \n",
      "\tdouble: 1.0009945751278182 \n",
      "\tdifference: 1.202509603004387e-08\n",
      "\n",
      "\tBackward\n",
      "\tfloat: 1.0009946 \n",
      "\tdouble: 1.000994575127818 \n",
      "\tdifference: 1.2025095807999264e-08\n",
      "\n",
      "s = 10 , n = 500\n",
      "\n",
      "\tForward\n",
      "\tfloat: 1.0009946 \n",
      "\tdouble: 1.0009945751278182 \n",
      "\tdifference: 1.202509603004387e-08\n",
      "\n",
      "\tBackward\n",
      "\tfloat: 1.0009946 \n",
      "\tdouble: 1.000994575127818 \n",
      "\tdifference: 1.2025095807999264e-08\n",
      "\n",
      "s = 10 , n = 1000\n",
      "\n",
      "\tForward\n",
      "\tfloat: 1.0009946 \n",
      "\tdouble: 1.0009945751278182 \n",
      "\tdifference: 1.202509603004387e-08\n",
      "\n",
      "\tBackward\n",
      "\tfloat: 1.0009946 \n",
      "\tdouble: 1.000994575127818 \n",
      "\tdifference: 1.2025095807999264e-08\n"
     ]
    }
   ],
   "source": [
    "for s in ss:\n",
    "    for n in ns:\n",
    "        print(\"\\ns =\", s,\", n =\", n)\n",
    "        print(\"\\n\\tForward\")\n",
    "        forward32 = dzeta_function_forward_float32(s, n)\n",
    "        forward64 = dzeta_function_forward_float64(s, n)\n",
    "        print(\"\\tfloat:\", forward32, \n",
    "              \"\\n\\tdouble:\", forward64,\n",
    "             \"\\n\\tdifference:\", abs(forward64 - forward32))\n",
    "        \n",
    "        print(\"\\n\\tBackward\")\n",
    "        backward32 = dzeta_function_backward_float32(s, n)\n",
    "        backward64 = dzeta_function_backward_float64(s, n)\n",
    "        print(\"\\tfloat:\", backward32, \n",
    "              \"\\n\\tdouble:\", backward64,\n",
    "             \"\\n\\tdifference:\", abs(backward64 - backward32))"
   ]
  },
  {
   "cell_type": "markdown",
   "id": "e2d8f96d",
   "metadata": {},
   "source": [
    "---"
   ]
  },
  {
   "cell_type": "markdown",
   "id": "7f47a87f",
   "metadata": {},
   "source": [
    "#### ETA"
   ]
  },
  {
   "cell_type": "code",
   "execution_count": 86,
   "id": "597a163a",
   "metadata": {},
   "outputs": [],
   "source": [
    "def eta_function_forward_float32(s, n):\n",
    "    s = np.float32(s)\n",
    "    sum_ = np.float32(0)\n",
    "    for i in range(1, n + 1):\n",
    "        if i % 2 == 0:\n",
    "            sum_ -= np.float32(1 / (i ** s))\n",
    "        else:\n",
    "            sum_ += np.float32(1 / (i ** s))\n",
    "    return sum_\n",
    "\n",
    "def eta_function_backward_float32(s, n):\n",
    "    s = np.float32(s)\n",
    "    sum_ = np.float32(0)\n",
    "    for i in range(n, 0, -1):\n",
    "        if i % 2 == 0:\n",
    "            sum_ -= np.float32(1 / (i ** s))\n",
    "        else:\n",
    "            sum_ += np.float32(1 / (i ** s))\n",
    "    return sum_\n",
    "\n",
    "def eta_function_forward_float64(s, n):\n",
    "    s = np.float64(s)\n",
    "    sum_ = np.float64(0)\n",
    "    for i in range(1, n + 1):\n",
    "        if i % 2 == 0:\n",
    "            sum_ -= np.float64(1 / (i ** s))\n",
    "        else:\n",
    "            sum_ += np.float64(1 / (i ** s))\n",
    "    return sum_\n",
    "\n",
    "def eta_function_backward_float64(s, n):\n",
    "    s = np.float64(s)\n",
    "    sum_ = np.float64(0)\n",
    "    for i in range(n, 0, -1):\n",
    "        if i % 2 == 0:\n",
    "            sum_ -= np.float64(1 / (i ** s))\n",
    "        else:\n",
    "            sum_ += np.float64(1 / (i ** s))\n",
    "    return sum_"
   ]
  },
  {
   "cell_type": "code",
   "execution_count": 87,
   "id": "6afb2518",
   "metadata": {},
   "outputs": [
    {
     "name": "stdout",
     "output_type": "stream",
     "text": [
      "\n",
      "s = 2 , n = 50\n",
      "\n",
      "\tForward\n",
      "\tfloat: 0.822271 \n",
      "\tdouble: 0.8222710318260295 \n",
      "\tdifference: 4.240799966748199e-08\n",
      "\n",
      "\tBackward\n",
      "\tfloat: 0.82227105 \n",
      "\tdouble: 0.8222710318260289 \n",
      "\tdifference: 1.719664566302015e-08\n",
      "\n",
      "s = 2 , n = 100\n",
      "\n",
      "\tForward\n",
      "\tfloat: 0.8224175 \n",
      "\tdouble: 0.8224175333741286 \n",
      "\tdifference: 3.573924090005676e-08\n",
      "\n",
      "\tBackward\n",
      "\tfloat: 0.8224175 \n",
      "\tdouble: 0.8224175333741282 \n",
      "\tdifference: 3.573924045596755e-08\n",
      "\n",
      "s = 2 , n = 200\n",
      "\n",
      "\tForward\n",
      "\tfloat: 0.8224547 \n",
      "\tdouble: 0.822454595922551 \n",
      "\tdifference: 9.501067654849038e-08\n",
      "\n",
      "\tBackward\n",
      "\tfloat: 0.8224546 \n",
      "\tdouble: 0.8224545959225509 \n",
      "\tdifference: 2.4198612891268567e-08\n",
      "\n",
      "s = 2 , n = 500\n",
      "\n",
      "\tForward\n",
      "\tfloat: 0.82246536 \n",
      "\tdouble: 0.8224650374240963 \n",
      "\tdifference: 3.2274054606595826e-07\n",
      "\n",
      "\tBackward\n",
      "\tfloat: 0.82246506 \n",
      "\tdouble: 0.8224650374240972 \n",
      "\tdifference: 2.471732130082671e-08\n",
      "\n",
      "s = 2 , n = 1000\n",
      "\n",
      "\tForward\n",
      "\tfloat: 0.82246685 \n",
      "\tdouble: 0.8224665339241114 \n",
      "\tdifference: 3.163566503205928e-07\n",
      "\n",
      "\tBackward\n",
      "\tfloat: 0.82246655 \n",
      "\tdouble: 0.8224665339241127 \n",
      "\tdifference: 1.8333425111372037e-08\n",
      "\n",
      "s = 3.6667 , n = 50\n",
      "\n",
      "\tForward\n",
      "\tfloat: 0.9346931 \n",
      "\tdouble: 0.9346930600307106 \n",
      "\tdifference: 3.8037526683964984e-08\n",
      "\n",
      "\tBackward\n",
      "\tfloat: 0.93469304 \n",
      "\tdouble: 0.934693060030711 \n",
      "\tdifference: 2.156711842449255e-08\n",
      "\n",
      "s = 3.6667 , n = 100\n",
      "\n",
      "\tForward\n",
      "\tfloat: 0.9346933 \n",
      "\tdouble: 0.9346933211400662 \n",
      "\tdifference: 4.425789457140894e-08\n",
      "\n",
      "\tBackward\n",
      "\tfloat: 0.93469334 \n",
      "\tdouble: 0.934693321140067 \n",
      "\tdifference: 1.5346749426825568e-08\n",
      "\n",
      "s = 3.6667 , n = 200\n",
      "\n",
      "\tForward\n",
      "\tfloat: 0.9346933 \n",
      "\tdouble: 0.9346933421086845 \n",
      "\tdifference: 6.522651285756353e-08\n",
      "\n",
      "\tBackward\n",
      "\tfloat: 0.93469334 \n",
      "\tdouble: 0.9346933421086852 \n",
      "\tdifference: 5.621868748306724e-09\n",
      "\n",
      "s = 3.6667 , n = 500\n",
      "\n",
      "\tForward\n",
      "\tfloat: 0.9346933 \n",
      "\tdouble: 0.9346933438558745 \n",
      "\tdifference: 6.697370291686155e-08\n",
      "\n",
      "\tBackward\n",
      "\tfloat: 0.93469334 \n",
      "\tdouble: 0.934693343855875 \n",
      "\tdifference: 7.36905858556014e-09\n",
      "\n",
      "s = 3.6667 , n = 1000\n",
      "\n",
      "\tForward\n",
      "\tfloat: 0.9346933 \n",
      "\tdouble: 0.9346933439141353 \n",
      "\tdifference: 6.70319636464356e-08\n",
      "\n",
      "\tBackward\n",
      "\tfloat: 0.93469334 \n",
      "\tdouble: 0.9346933439141354 \n",
      "\tdifference: 7.427318982067277e-09\n",
      "\n",
      "s = 5 , n = 50\n",
      "\n",
      "\tForward\n",
      "\tfloat: 0.9721198 \n",
      "\tdouble: 0.9721197689267979 \n",
      "\tdifference: 3.927022362848476e-08\n",
      "\n",
      "\tBackward\n",
      "\tfloat: 0.97211975 \n",
      "\tdouble: 0.9721197689267976 \n",
      "\tdifference: 2.0334420924861263e-08\n",
      "\n",
      "s = 5 , n = 100\n",
      "\n",
      "\tForward\n",
      "\tfloat: 0.9721198 \n",
      "\tdouble: 0.9721197703981592 \n",
      "\tdifference: 3.779886226240592e-08\n",
      "\n",
      "\tBackward\n",
      "\tfloat: 0.97211975 \n",
      "\tdouble: 0.9721197703981589 \n",
      "\tdifference: 2.18057821799178e-08\n",
      "\n",
      "s = 5 , n = 200\n",
      "\n",
      "\tForward\n",
      "\tfloat: 0.9721198 \n",
      "\tdouble: 0.972119770445367 \n",
      "\tdifference: 3.775165446917583e-08\n",
      "\n",
      "\tBackward\n",
      "\tfloat: 0.97211975 \n",
      "\tdouble: 0.9721197704453663 \n",
      "\tdifference: 2.1852989640080978e-08\n",
      "\n",
      "s = 5 , n = 500\n",
      "\n",
      "\tForward\n",
      "\tfloat: 0.9721198 \n",
      "\tdouble: 0.9721197704468947 \n",
      "\tdifference: 3.775012680229395e-08\n",
      "\n",
      "\tBackward\n",
      "\tfloat: 0.97211975 \n",
      "\tdouble: 0.9721197704468933 \n",
      "\tdifference: 2.1854516640829047e-08\n",
      "\n",
      "s = 5 , n = 1000\n",
      "\n",
      "\tForward\n",
      "\tfloat: 0.9721198 \n",
      "\tdouble: 0.9721197704469091 \n",
      "\tdifference: 3.775011236939463e-08\n",
      "\n",
      "\tBackward\n",
      "\tfloat: 0.97211975 \n",
      "\tdouble: 0.9721197704469088 \n",
      "\tdifference: 2.185453207292909e-08\n",
      "\n",
      "s = 7.2 , n = 50\n",
      "\n",
      "\tForward\n",
      "\tfloat: 0.99352705 \n",
      "\tdouble: 0.9935270006613486 \n",
      "\tdifference: 5.412533354842708e-08\n",
      "\n",
      "\tBackward\n",
      "\tfloat: 0.993527 \n",
      "\tdouble: 0.9935270006613481 \n",
      "\tdifference: 5.479310782874336e-09\n",
      "\n",
      "s = 7.2 , n = 100\n",
      "\n",
      "\tForward\n",
      "\tfloat: 0.99352705 \n",
      "\tdouble: 0.9935270006616185 \n",
      "\tdifference: 5.412506365320979e-08\n",
      "\n",
      "\tBackward\n",
      "\tfloat: 0.993527 \n",
      "\tdouble: 0.9935270006616179 \n",
      "\tdifference: 5.47958056706932e-09\n",
      "\n",
      "s = 7.2 , n = 200\n",
      "\n",
      "\tForward\n",
      "\tfloat: 0.99352705 \n",
      "\tdouble: 0.9935270006616201 \n",
      "\tdifference: 5.4125061987875256e-08\n",
      "\n",
      "\tBackward\n",
      "\tfloat: 0.993527 \n",
      "\tdouble: 0.9935270006616198 \n",
      "\tdifference: 5.479582454448462e-09\n",
      "\n",
      "s = 7.2 , n = 500\n",
      "\n",
      "\tForward\n",
      "\tfloat: 0.99352705 \n",
      "\tdouble: 0.9935270006616201 \n",
      "\tdifference: 5.4125061987875256e-08\n",
      "\n",
      "\tBackward\n",
      "\tfloat: 0.993527 \n",
      "\tdouble: 0.9935270006616198 \n",
      "\tdifference: 5.479582454448462e-09\n",
      "\n",
      "s = 7.2 , n = 1000\n",
      "\n",
      "\tForward\n",
      "\tfloat: 0.99352705 \n",
      "\tdouble: 0.9935270006616201 \n",
      "\tdifference: 5.4125061987875256e-08\n",
      "\n",
      "\tBackward\n",
      "\tfloat: 0.993527 \n",
      "\tdouble: 0.9935270006616198 \n",
      "\tdifference: 5.479582454448462e-09\n",
      "\n",
      "s = 10 , n = 50\n",
      "\n",
      "\tForward\n",
      "\tfloat: 0.99903953 \n",
      "\tdouble: 0.9990395075982718 \n",
      "\tdifference: 2.3155817596709483e-08\n",
      "\n",
      "\tBackward\n",
      "\tfloat: 0.99903953 \n",
      "\tdouble: 0.9990395075982715 \n",
      "\tdifference: 2.3155817818754088e-08\n",
      "\n",
      "s = 10 , n = 100\n",
      "\n",
      "\tForward\n",
      "\tfloat: 0.99903953 \n",
      "\tdouble: 0.9990395075982718 \n",
      "\tdifference: 2.3155817596709483e-08\n",
      "\n",
      "\tBackward\n",
      "\tfloat: 0.99903953 \n",
      "\tdouble: 0.9990395075982715 \n",
      "\tdifference: 2.3155817818754088e-08\n",
      "\n",
      "s = 10 , n = 200\n",
      "\n",
      "\tForward\n",
      "\tfloat: 0.99903953 \n",
      "\tdouble: 0.9990395075982718 \n",
      "\tdifference: 2.3155817596709483e-08\n",
      "\n",
      "\tBackward\n",
      "\tfloat: 0.99903953 \n",
      "\tdouble: 0.9990395075982715 \n",
      "\tdifference: 2.3155817818754088e-08\n",
      "\n",
      "s = 10 , n = 500\n",
      "\n",
      "\tForward\n",
      "\tfloat: 0.99903953 \n",
      "\tdouble: 0.9990395075982718 \n",
      "\tdifference: 2.3155817596709483e-08\n",
      "\n",
      "\tBackward\n",
      "\tfloat: 0.99903953 \n",
      "\tdouble: 0.9990395075982715 \n",
      "\tdifference: 2.3155817818754088e-08\n",
      "\n",
      "s = 10 , n = 1000\n",
      "\n",
      "\tForward\n",
      "\tfloat: 0.99903953 \n",
      "\tdouble: 0.9990395075982718 \n",
      "\tdifference: 2.3155817596709483e-08\n",
      "\n",
      "\tBackward\n",
      "\tfloat: 0.99903953 \n",
      "\tdouble: 0.9990395075982715 \n",
      "\tdifference: 2.3155817818754088e-08\n"
     ]
    }
   ],
   "source": [
    "for s in ss:\n",
    "    for n in ns:\n",
    "        print(\"\\ns =\", s,\", n =\", n)\n",
    "        print(\"\\n\\tForward\")\n",
    "        forward32 = eta_function_forward_float32(s, n)\n",
    "        forward64 = eta_function_forward_float64(s, n)\n",
    "        print(\"\\tfloat:\", forward32, \n",
    "              \"\\n\\tdouble:\", forward64,\n",
    "             \"\\n\\tdifference:\", abs(forward64 - forward32))\n",
    "        \n",
    "        print(\"\\n\\tBackward\")\n",
    "        backward32 = eta_function_backward_float32(s, n)\n",
    "        backward64 = eta_function_backward_float64(s, n)\n",
    "        print(\"\\tfloat:\", backward32, \n",
    "              \"\\n\\tdouble:\", backward64,\n",
    "             \"\\n\\tdifference:\", abs(backward64 - backward32))"
   ]
  },
  {
   "cell_type": "code",
   "execution_count": null,
   "id": "6e698e39",
   "metadata": {},
   "outputs": [],
   "source": []
  }
 ],
 "metadata": {
  "kernelspec": {
   "display_name": "PyCharm (geometric algorithms)",
   "language": "python",
   "name": "pycharm-94575330"
  },
  "language_info": {
   "codemirror_mode": {
    "name": "ipython",
    "version": 3
   },
   "file_extension": ".py",
   "mimetype": "text/x-python",
   "name": "python",
   "nbconvert_exporter": "python",
   "pygments_lexer": "ipython3",
   "version": "3.9.12"
  }
 },
 "nbformat": 4,
 "nbformat_minor": 5
}
