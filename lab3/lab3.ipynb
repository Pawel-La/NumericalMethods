{
 "cells": [
  {
   "cell_type": "markdown",
   "id": "fccf799f",
   "metadata": {},
   "source": [
    "# Równania nieliniowe"
   ]
  },
  {
   "cell_type": "code",
   "execution_count": 1,
   "id": "12ddd222",
   "metadata": {},
   "outputs": [],
   "source": [
    "import numpy as np\n",
    "from mpmath import mp"
   ]
  },
  {
   "cell_type": "code",
   "execution_count": 51,
   "id": "948d3af1",
   "metadata": {},
   "outputs": [],
   "source": [
    "def f1(x):\n",
    "    return np.cos(x) * np.cosh(x) - 1\n",
    "def f2(x):\n",
    "    return 1 / x - np.tan(x)\n",
    "def f3(x):\n",
    "    return pow(2, -x) + np.exp(x) + 2*np.cos(x) - 6\n",
    "def f1_pochodna(x):\n",
    "    return np.cos(x) * np.sinh(x) - np.sin(x) * np.cosh(x)\n",
    "def f2_pochodna(x):\n",
    "    return -1/(x*x) - 1/(np.cos(x) * np.cos(x))\n",
    "def f3_pochodna(x):\n",
    "    return np.exp(x) - (2**(-x))*np.log(2) - 2*np.sin(x)"
   ]
  },
  {
   "cell_type": "markdown",
   "id": "6c8e4c64",
   "metadata": {},
   "source": [
    "### Zadanie 1 Metoda bisekcji. Napisz funkcję realizującą metodę bisekcji dla danej funkcji f w oparciu o arytmetykę o zmiennej precyzji. Funkcja przyjmuje następujące argumenty: \n",
    "### •Minimalną precyzję obliczeń (liczba cyfr znaczących)\n",
    "### •Krańce przedziału\n",
    "### •Błąd bezwzględny obliczeń\n",
    "### Funkcja ma zwracać wyznaczone miejsce zerowe i liczbę iteracji potrzebną do uzyskania określonej dokładności. Przetestuj działanie metody dla funkcji podanych na początku instrukcji. Jaka liczba iteracji jest potrzebna do uzyskania bezwzględnej dokładności rzędu: 10^−7, 10^−15, 10^−33? W jaki sposób możemy obliczyć k pierwszych dodatnich pierwiastków funkcji f1(x)?"
   ]
  },
  {
   "cell_type": "code",
   "execution_count": 3,
   "id": "0d1861f8",
   "metadata": {},
   "outputs": [],
   "source": [
    "def bisect(func, epsilon, left, right, error):\n",
    "    \n",
    "    center = left\n",
    "    iterations = 0\n",
    "    while (abs(func(center)) > epsilon and abs(right - left) > error):\n",
    "        center = (right - left) / 2 + left\n",
    "        if np.sign(func(left)) != np.sign(func(center)):\n",
    "            right = center\n",
    "        else:\n",
    "            left = center\n",
    "        iterations += 1\n",
    "    return center, iterations"
   ]
  },
  {
   "cell_type": "code",
   "execution_count": 4,
   "id": "5f601de5",
   "metadata": {},
   "outputs": [
    {
     "data": {
      "text/plain": [
       "(4.730040713775952, 24)"
      ]
     },
     "execution_count": 4,
     "metadata": {},
     "output_type": "execute_result"
    }
   ],
   "source": [
    "bisect(f1, 10**(-7), 3/2 * np.pi, 2 * np.pi, 10**(-7))"
   ]
  },
  {
   "cell_type": "code",
   "execution_count": 5,
   "id": "bc111506",
   "metadata": {},
   "outputs": [
    {
     "data": {
      "text/plain": [
       "(4.730040744862705, 51)"
      ]
     },
     "execution_count": 5,
     "metadata": {},
     "output_type": "execute_result"
    }
   ],
   "source": [
    "bisect(f1, 10**(-15), 3/2 * np.pi, 2 * np.pi, 10**(-15))"
   ]
  },
  {
   "cell_type": "code",
   "execution_count": 6,
   "id": "c9d55c8d",
   "metadata": {},
   "outputs": [
    {
     "name": "stderr",
     "output_type": "stream",
     "text": [
      "\n",
      "KeyboardInterrupt\n",
      "\n"
     ]
    }
   ],
   "source": [
    "bisect(f1, 10**(-33), 3/2 * np.pi, 2 * np.pi, 10**(-33))"
   ]
  },
  {
   "cell_type": "code",
   "execution_count": 7,
   "id": "7055e200",
   "metadata": {},
   "outputs": [
    {
     "data": {
      "text/plain": [
       "(0.8603335555687444, 24)"
      ]
     },
     "execution_count": 7,
     "metadata": {},
     "output_type": "execute_result"
    }
   ],
   "source": [
    "bisect(f2, 10**(-7), 10**(-30), 1/2 * np.pi, 10**(-7))"
   ]
  },
  {
   "cell_type": "code",
   "execution_count": 8,
   "id": "4baf5737",
   "metadata": {},
   "outputs": [
    {
     "data": {
      "text/plain": [
       "(0.8603335890193795, 51)"
      ]
     },
     "execution_count": 8,
     "metadata": {},
     "output_type": "execute_result"
    }
   ],
   "source": [
    "bisect(f2, 10**(-15), 10**(-30), 1/2 * np.pi, 10**(-15))"
   ]
  },
  {
   "cell_type": "code",
   "execution_count": 9,
   "id": "891f9d71",
   "metadata": {},
   "outputs": [
    {
     "data": {
      "text/plain": [
       "(0.8603335890193797, 53)"
      ]
     },
     "execution_count": 9,
     "metadata": {},
     "output_type": "execute_result"
    }
   ],
   "source": [
    "bisect(f2, 10**(-33), 10**(-30), 1/2 * np.pi, 10**(-33))"
   ]
  },
  {
   "cell_type": "code",
   "execution_count": 10,
   "id": "b45ad8fb",
   "metadata": {},
   "outputs": [
    {
     "data": {
      "text/plain": [
       "(1.8293836116790771, 23)"
      ]
     },
     "execution_count": 10,
     "metadata": {},
     "output_type": "execute_result"
    }
   ],
   "source": [
    "bisect(f3, 10**(-7), 1, 3, 10**(-7))"
   ]
  },
  {
   "cell_type": "code",
   "execution_count": 11,
   "id": "ead3b0bf",
   "metadata": {},
   "outputs": [
    {
     "data": {
      "text/plain": [
       "(1.8293836019338485, 48)"
      ]
     },
     "execution_count": 11,
     "metadata": {},
     "output_type": "execute_result"
    }
   ],
   "source": [
    "bisect(f3, 10**(-15), 1, 3, 10**(-15))"
   ]
  },
  {
   "cell_type": "code",
   "execution_count": 12,
   "id": "1fd240cc",
   "metadata": {},
   "outputs": [
    {
     "data": {
      "text/plain": [
       "(1.8293836019338487, 53)"
      ]
     },
     "execution_count": 12,
     "metadata": {},
     "output_type": "execute_result"
    }
   ],
   "source": [
    "bisect(f3, 10**(-33), 1, 3, 10**(-33))"
   ]
  },
  {
   "cell_type": "markdown",
   "id": "0de17891",
   "metadata": {},
   "source": [
    "### Zadanie 2 Metoda Newtona. Napisz funkcję realizującą metodę Newtona w oparciu o arytmetykę o zmiennej precyzji. Funkcja ma wykorzystywać dwa kryteria stopu:\n",
    "### •maksymalną liczbę iteracji\n",
    "### •moduł różnicy kolejnych przybliżeń mniejszy od danej wartości ε\n",
    "### Oprócz przybliżonej wartości pierwiastka funkcja ma zwrócić liczbę iteracji potrzebną do uzyskania określonej dokładności ε. Przetestuj działanie metody dla funkcji podanych na początku instrukcji (dodatkowo dostępne pochodne tych funkcji). Porównaj zbieżność metody ze zbieżnością uzyskaną dla metody bisekcji."
   ]
  },
  {
   "cell_type": "code",
   "execution_count": 63,
   "id": "ea90630d",
   "metadata": {},
   "outputs": [],
   "source": [
    "def Newton(function, deriviate, left, right, max_iterations, epsilon):\n",
    "    iteration = 0\n",
    "    curr = (left + right) / 2\n",
    "    prev = left\n",
    "    while (abs(curr - prev) >= epsilon):\n",
    "        curr, prev = curr - function(curr) / deriviate(curr), curr\n",
    "        iteration += 1\n",
    "    return curr, iteration"
   ]
  },
  {
   "cell_type": "code",
   "execution_count": 41,
   "id": "f527d0f7",
   "metadata": {
    "scrolled": true
   },
   "outputs": [
    {
     "data": {
      "text/plain": [
       "(4.730040744862704, 7)"
      ]
     },
     "execution_count": 41,
     "metadata": {},
     "output_type": "execute_result"
    }
   ],
   "source": [
    "Newton(f1, f1_pochodna, 3/2 * np.pi, 2 * np.pi, 200, 10**(-7))"
   ]
  },
  {
   "cell_type": "code",
   "execution_count": 42,
   "id": "249c2f51",
   "metadata": {},
   "outputs": [
    {
     "data": {
      "text/plain": [
       "(4.730040744862704, 8)"
      ]
     },
     "execution_count": 42,
     "metadata": {},
     "output_type": "execute_result"
    }
   ],
   "source": [
    "Newton(f1, f1_pochodna, 3/2 * np.pi, 2 * np.pi, 200, 10**(-15))"
   ]
  },
  {
   "cell_type": "code",
   "execution_count": 43,
   "id": "aecdd986",
   "metadata": {},
   "outputs": [
    {
     "data": {
      "text/plain": [
       "(4.730040744862704, 8)"
      ]
     },
     "execution_count": 43,
     "metadata": {},
     "output_type": "execute_result"
    }
   ],
   "source": [
    "Newton(f1, f1_pochodna, 3/2 * np.pi, 2 * np.pi, 200, 10**(-33))"
   ]
  },
  {
   "cell_type": "code",
   "execution_count": 64,
   "id": "ccdc8659",
   "metadata": {},
   "outputs": [
    {
     "data": {
      "text/plain": [
       "(0.8603335890193821, 3)"
      ]
     },
     "execution_count": 64,
     "metadata": {},
     "output_type": "execute_result"
    }
   ],
   "source": [
    "Newton(f2, f2_pochodna, 10**(-30), 1/2 * np.pi, 200, 10**(-7))"
   ]
  },
  {
   "cell_type": "code",
   "execution_count": 67,
   "id": "aae7e564",
   "metadata": {},
   "outputs": [
    {
     "data": {
      "text/plain": [
       "(0.8603335890193797, 5)"
      ]
     },
     "execution_count": 67,
     "metadata": {},
     "output_type": "execute_result"
    }
   ],
   "source": [
    "Newton(f2, f2_pochodna, 10**(-30), 1/2 * np.pi, 200, 10**(-15))"
   ]
  },
  {
   "cell_type": "code",
   "execution_count": 68,
   "id": "4f6ccb1b",
   "metadata": {},
   "outputs": [
    {
     "data": {
      "text/plain": [
       "(0.8603335890193797, 5)"
      ]
     },
     "execution_count": 68,
     "metadata": {},
     "output_type": "execute_result"
    }
   ],
   "source": [
    "Newton(f2, f2_pochodna, 10**(-30), 1/2 * np.pi, 200, 10**(-33))"
   ]
  },
  {
   "cell_type": "code",
   "execution_count": 71,
   "id": "fa13fd1b",
   "metadata": {},
   "outputs": [
    {
     "data": {
      "text/plain": [
       "(1.829383601933849, 5)"
      ]
     },
     "execution_count": 71,
     "metadata": {},
     "output_type": "execute_result"
    }
   ],
   "source": [
    "Newton(f3, f3_pochodna, 1, 3, 200, 10**(-7))"
   ]
  },
  {
   "cell_type": "code",
   "execution_count": 72,
   "id": "fb5b3734",
   "metadata": {},
   "outputs": [
    {
     "data": {
      "text/plain": [
       "(1.8293836019338487, 6)"
      ]
     },
     "execution_count": 72,
     "metadata": {},
     "output_type": "execute_result"
    }
   ],
   "source": [
    "Newton(f3, f3_pochodna, 1, 3, 200, 10**(-15))"
   ]
  },
  {
   "cell_type": "code",
   "execution_count": 73,
   "id": "5a5fe44f",
   "metadata": {},
   "outputs": [
    {
     "data": {
      "text/plain": [
       "(1.8293836019338487, 7)"
      ]
     },
     "execution_count": 73,
     "metadata": {},
     "output_type": "execute_result"
    }
   ],
   "source": [
    "Newton(f3, f3_pochodna, 1, 3, 200, 10**(-33))"
   ]
  },
  {
   "cell_type": "code",
   "execution_count": null,
   "id": "8e90e1a0",
   "metadata": {},
   "outputs": [],
   "source": []
  }
 ],
 "metadata": {
  "kernelspec": {
   "display_name": "Python 3 (ipykernel)",
   "language": "python",
   "name": "python3"
  },
  "language_info": {
   "codemirror_mode": {
    "name": "ipython",
    "version": 3
   },
   "file_extension": ".py",
   "mimetype": "text/x-python",
   "name": "python",
   "nbconvert_exporter": "python",
   "pygments_lexer": "ipython3",
   "version": "3.9.12"
  }
 },
 "nbformat": 4,
 "nbformat_minor": 5
}
